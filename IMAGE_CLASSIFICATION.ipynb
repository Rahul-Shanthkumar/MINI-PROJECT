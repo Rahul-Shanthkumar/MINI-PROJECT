{
  "nbformat": 4,
  "nbformat_minor": 0,
  "metadata": {
    "colab": {
      "name": "IMAGE CLASSIFICATION.ipynb",
      "provenance": [],
      "collapsed_sections": [],
      "authorship_tag": "ABX9TyMGV8qhgYEykkArLmW8GBT3",
      "include_colab_link": true
    },
    "kernelspec": {
      "name": "python3",
      "display_name": "Python 3"
    },
    "language_info": {
      "name": "python"
    }
  },
  "cells": [
    {
      "cell_type": "markdown",
      "metadata": {
        "id": "view-in-github",
        "colab_type": "text"
      },
      "source": [
        "<a href=\"https://colab.research.google.com/github/Rahul-Shanthkumar/MINI-PROJECT/blob/main/IMAGE_CLASSIFICATION.ipynb\" target=\"_parent\"><img src=\"https://colab.research.google.com/assets/colab-badge.svg\" alt=\"Open In Colab\"/></a>"
      ]
    },
    {
      "cell_type": "code",
      "metadata": {
        "id": "PPmNO5lBsmjL"
      },
      "source": [
        "# Data : Images\n",
        "# 1. use python libraries to scrape the images (using)"
      ],
      "execution_count": null,
      "outputs": []
    },
    {
      "cell_type": "code",
      "metadata": {
        "id": "0AbowfJF7qBU"
      },
      "source": [
        ""
      ],
      "execution_count": null,
      "outputs": []
    },
    {
      "cell_type": "code",
      "metadata": {
        "colab": {
          "base_uri": "https://localhost:8080/"
        },
        "id": "mWyJ7zeUs7D-",
        "outputId": "fd295681-dbc8-4753-8dd9-8cb1326859fe"
      },
      "source": [
        "!pip install bing-image-downloader\n"
      ],
      "execution_count": null,
      "outputs": [
        {
          "output_type": "stream",
          "text": [
            "Requirement already satisfied: bing-image-downloader in /usr/local/lib/python3.7/dist-packages (1.0.4)\n"
          ],
          "name": "stdout"
        }
      ]
    },
    {
      "cell_type": "code",
      "metadata": {
        "colab": {
          "base_uri": "https://localhost:8080/"
        },
        "id": "c4b4Mj8xtA8-",
        "outputId": "82d1446c-c57f-4296-a9a6-1196446bc7a7"
      },
      "source": [
        "!mkdir images"
      ],
      "execution_count": null,
      "outputs": [
        {
          "output_type": "stream",
          "text": [
            "mkdir: cannot create directory ‘images’: File exists\n"
          ],
          "name": "stdout"
        }
      ]
    },
    {
      "cell_type": "code",
      "metadata": {
        "colab": {
          "base_uri": "https://localhost:8080/"
        },
        "id": "J4c-vkiatJkN",
        "outputId": "b18356fc-fba8-47a3-c02f-97a3a7b381b1"
      },
      "source": [
        "from bing_image_downloader import downloader\n",
        "downloader.download(\"racing bikes\",limit=30,output_dir='images',\n",
        "                    adult_filter_off=True)\n"
      ],
      "execution_count": null,
      "outputs": [
        {
          "output_type": "stream",
          "text": [
            "\n",
            "\n",
            "[!!]Indexing page: 1\n",
            "\n",
            "[%] Indexed 12 Images on Page 1.\n",
            "\n",
            "===============================================\n",
            "\n",
            "[%] Downloading Image #1 from http://www.hdwallpapers.in/download/suzuki_motocross_bike_race-1920x1200.jpg\n",
            "[%] File Downloaded !\n",
            "\n",
            "[%] Downloading Image #2 from https://wallpapershome.com/images/wallpapers/dodge-challenger-srt-demon-720x1280-red-2017-new-york-auto-show-13357.jpg\n",
            "[%] File Downloaded !\n",
            "\n",
            "[%] Downloading Image #3 from https://iphoneswallpapers.com/wp-content/uploads/2017/04/Motocross-Biker-Mud-Racing-iPhone-Wallpaper-iphoneswallpapers_com.jpg\n",
            "[%] File Downloaded !\n",
            "\n",
            "[%] Downloading Image #4 from https://wallpapershome.com/images/wallpapers/aston-martin-vantage-lime-essence-1440x2560-2019-cars-4k-18143.jpg\n",
            "[%] File Downloaded !\n",
            "\n",
            "[%] Downloading Image #5 from https://wallpapershome.com/images/wallpapers/suzuki-gsx-s750-3840x2160-2018-bikes-4k-14719.jpg\n",
            "[%] File Downloaded !\n",
            "\n",
            "[%] Downloading Image #6 from https://wallpapershome.com/images/wallpapers/mercedes-benz-1280x720-formula-1-f1-lewis-hamilton-helmet-specs-2942.jpg\n",
            "[%] File Downloaded !\n",
            "\n",
            "[%] Downloading Image #7 from https://wallpapersite.com/images/wallpapers/motocross-3840x2160-racing-mud-hd-4k-1921.jpg\n",
            "[!] Issue getting: https://wallpapersite.com/images/wallpapers/motocross-3840x2160-racing-mud-hd-4k-1921.jpg\n",
            "[!] Error:: HTTP Error 404: Not Found\n",
            "[%] Downloading Image #7 from https://wallpapershome.com/images/wallpapers/ferrari-portofino-1080x1920-2018-cars-4k-15446.jpeg\n",
            "[%] File Downloaded !\n",
            "\n",
            "[%] Downloading Image #8 from https://wallpapershome.com/images/wallpapers/volkswagen-golf-gti-tcr-1920x1080-racecar-white-9402.jpeg\n",
            "[%] File Downloaded !\n",
            "\n",
            "[%] Downloading Image #9 from https://wallpapershome.com/images/wallpapers/ducati-959-panigale-1080x1920-turing-bike-2016-best-bikes-12132.jpeg\n",
            "[%] File Downloaded !\n",
            "\n",
            "[%] Downloading Image #10 from https://wallpapershome.com/images/wallpapers/ford-gt-1080x1920-supercar-concept-blue-sports-car-luxury-cars-test-8041.jpeg\n",
            "[%] File Downloaded !\n",
            "\n",
            "[%] Downloading Image #11 from https://wallpapershome.com/images/wallpapers/carmageddon-reincarnation-1080x1920-best-games-2015-game-racing-pc-6010.jpg\n",
            "[%] File Downloaded !\n",
            "\n",
            "\n",
            "\n",
            "[!!]Indexing page: 2\n",
            "\n",
            "[%] Indexed 12 Images on Page 2.\n",
            "\n",
            "===============================================\n",
            "\n",
            "[%] Downloading Image #12 from http://www.hdwallpapers.in/download/suzuki_motocross_bike_race-1920x1200.jpg\n",
            "[%] File Downloaded !\n",
            "\n",
            "[%] Downloading Image #13 from https://wallpapershome.com/images/wallpapers/dodge-challenger-srt-demon-720x1280-red-2017-new-york-auto-show-13357.jpg\n",
            "[%] File Downloaded !\n",
            "\n",
            "[%] Downloading Image #14 from https://iphoneswallpapers.com/wp-content/uploads/2017/04/Motocross-Biker-Mud-Racing-iPhone-Wallpaper-iphoneswallpapers_com.jpg\n",
            "[%] File Downloaded !\n",
            "\n",
            "[%] Downloading Image #15 from https://wallpapershome.com/images/wallpapers/aston-martin-vantage-lime-essence-1440x2560-2019-cars-4k-18143.jpg\n",
            "[%] File Downloaded !\n",
            "\n",
            "[%] Downloading Image #16 from https://wallpapershome.com/images/wallpapers/suzuki-gsx-s750-3840x2160-2018-bikes-4k-14719.jpg\n",
            "[%] File Downloaded !\n",
            "\n",
            "[%] Downloading Image #17 from https://wallpapershome.com/images/wallpapers/mercedes-benz-1280x720-formula-1-f1-lewis-hamilton-helmet-specs-2942.jpg\n",
            "[%] File Downloaded !\n",
            "\n",
            "[%] Downloading Image #18 from https://wallpapersite.com/images/wallpapers/motocross-3840x2160-racing-mud-hd-4k-1921.jpg\n",
            "[!] Issue getting: https://wallpapersite.com/images/wallpapers/motocross-3840x2160-racing-mud-hd-4k-1921.jpg\n",
            "[!] Error:: HTTP Error 404: Not Found\n",
            "[%] Downloading Image #18 from https://wallpapershome.com/images/wallpapers/ferrari-portofino-1080x1920-2018-cars-4k-15446.jpeg\n",
            "[%] File Downloaded !\n",
            "\n",
            "[%] Downloading Image #19 from https://wallpapershome.com/images/wallpapers/volkswagen-golf-gti-tcr-1920x1080-racecar-white-9402.jpeg\n",
            "[%] File Downloaded !\n",
            "\n",
            "[%] Downloading Image #20 from https://wallpapershome.com/images/wallpapers/ducati-959-panigale-1080x1920-turing-bike-2016-best-bikes-12132.jpeg\n",
            "[%] File Downloaded !\n",
            "\n",
            "[%] Downloading Image #21 from https://wallpapershome.com/images/wallpapers/ford-gt-1080x1920-supercar-concept-blue-sports-car-luxury-cars-test-8041.jpeg\n",
            "[%] File Downloaded !\n",
            "\n",
            "[%] Downloading Image #22 from https://wallpapershome.com/images/wallpapers/carmageddon-reincarnation-1080x1920-best-games-2015-game-racing-pc-6010.jpg\n",
            "[%] File Downloaded !\n",
            "\n",
            "\n",
            "\n",
            "[!!]Indexing page: 3\n",
            "\n",
            "[%] Indexed 11 Images on Page 3.\n",
            "\n",
            "===============================================\n",
            "\n",
            "[%] Downloading Image #23 from https://wallpapershome.com/images/wallpapers/alfa-romeo-4c-1080x1920-coupe-sportcar-red-6377.jpg\n",
            "[%] File Downloaded !\n",
            "\n",
            "[%] Downloading Image #24 from https://wallpapershome.com/images/wallpapers/williams-fw38-1080x1920-formula-1-testing-live-from-barcelona-f1-8872.jpeg\n",
            "[%] File Downloaded !\n",
            "\n",
            "[%] Downloading Image #25 from https://wallpapershome.com/images/wallpapers/lamborghini-sc18-1440x2560-supercar-2018-cars-4k-20933.jpeg\n",
            "[%] File Downloaded !\n",
            "\n",
            "[%] Downloading Image #26 from https://wallpapershome.com/images/wallpapers/bmw-m3-cs-1440x2560-cars-2018-4k-16499.jpg\n",
            "[%] File Downloaded !\n",
            "\n",
            "[%] Downloading Image #27 from https://wallpapershome.com/images/wallpapers/bugatti-chiron-5120x2880-hypercar-8k-15702.jpg\n",
            "[%] File Downloaded !\n",
            "\n",
            "[%] Downloading Image #28 from https://wallpapershome.com/images/wallpapers/bmw-x2-m35i-1920x1080-2019-cars-suv-5k-20304.jpg\n",
            "[%] File Downloaded !\n",
            "\n",
            "[%] Downloading Image #29 from https://wallpapershome.com/images/wallpapers/mini-electric-concept-5120x2880-2018-cars-electric-car-6k-18781.jpg\n",
            "[%] File Downloaded !\n",
            "\n",
            "[%] Downloading Image #30 from https://wallpapershome.com/images/wallpapers/jaguar-f-type-3840x2160-2019-cars-luxury-cars-4k-19541.jpg\n",
            "[%] File Downloaded !\n",
            "\n",
            "\n",
            "\n",
            "[%] Done. Downloaded 30 images.\n",
            "\n",
            "===============================================\n",
            "\n"
          ],
          "name": "stdout"
        }
      ]
    },
    {
      "cell_type": "code",
      "metadata": {
        "colab": {
          "base_uri": "https://localhost:8080/"
        },
        "id": "G_3cEp-ZtdOs",
        "outputId": "df1b5b1a-8df3-4b04-eedc-78d2a42f94b5"
      },
      "source": [
        "downloader.download(\"rugby ball leather\",limit=30,output_dir='images',\n",
        "                    adult_filter_off=True)"
      ],
      "execution_count": null,
      "outputs": [
        {
          "output_type": "stream",
          "text": [
            "\n",
            "\n",
            "[!!]Indexing page: 1\n",
            "\n",
            "[%] Indexed 11 Images on Page 1.\n",
            "\n",
            "===============================================\n",
            "\n",
            "[%] Downloading Image #1 from https://www.john-woodbridge.com/1032-large_default/1920s-rugby-ball.jpg\n",
            "[%] File Downloaded !\n",
            "\n",
            "[%] Downloading Image #2 from https://cdn.shopify.com/s/files/1/0788/5979/products/mvp-leather-balls-heritage-leather-t-soccer-ball-2_1024x1024.jpg?v=1554719760\n",
            "[%] File Downloaded !\n",
            "\n",
            "[%] Downloading Image #3 from https://www.john-woodbridge.com/1020-tm_large_default/1950s-football.jpg\n",
            "[%] File Downloaded !\n",
            "\n",
            "[%] Downloading Image #4 from https://www.academyballs.com/s/cc_images/teaserbox_1818127.jpg?t=1479054313\n",
            "[%] File Downloaded !\n",
            "\n",
            "[%] Downloading Image #5 from http://s3-ap-southeast-2.amazonaws.com/resources.farm1.mycms.me/goodbuddy-com-au/Resources/ProductImages/917_lo.jpg\n",
            "[%] File Downloaded !\n",
            "\n",
            "[%] Downloading Image #6 from https://cdn.shopify.com/s/files/1/0020/1025/1324/products/32p_black_1024x.png?v=1534865418\n",
            "[%] File Downloaded !\n",
            "\n",
            "[%] Downloading Image #7 from http://atlas-content-cdn.pixelsquid.com/stock-images/football-ball-QJGKVx9-600.jpg\n",
            "[%] File Downloaded !\n",
            "\n",
            "[%] Downloading Image #8 from http://www.pgoldsmithsons.com/content/images/thumbs/0000167_vintage-soccer-ball-wc-1958-tan-brown_600.jpeg\n",
            "[%] File Downloaded !\n",
            "\n",
            "[%] Downloading Image #9 from https://www.rugbyfactoryshop.co.uk/media/catalog/product/cache/13/image/9df78eab33525d08d6e5fb8d27136e95/g/i/gilbert-sidestep-revolution-black-red-rugby-boot_23.jpg\n",
            "[%] File Downloaded !\n",
            "\n",
            "[%] Downloading Image #10 from http://sportsballshop.co.uk/acatalog/SlazengerMatch1.jpg\n",
            "[%] File Downloaded !\n",
            "\n",
            "[%] Downloading Image #11 from http://www.prodirectrugby.com/productimages/V3_1_Gallery_1/62289.jpg\n",
            "[!] Issue getting: http://www.prodirectrugby.com/productimages/V3_1_Gallery_1/62289.jpg\n",
            "[!] Error:: HTTP Error 403: Forbidden\n",
            "\n",
            "\n",
            "[!!]Indexing page: 2\n",
            "\n",
            "[%] Indexed 11 Images on Page 2.\n",
            "\n",
            "===============================================\n",
            "\n",
            "[%] Downloading Image #11 from https://www.john-woodbridge.com/1032-large_default/1920s-rugby-ball.jpg\n",
            "[%] File Downloaded !\n",
            "\n",
            "[%] Downloading Image #12 from https://cdn.shopify.com/s/files/1/0788/5979/products/mvp-leather-balls-heritage-leather-t-soccer-ball-2_1024x1024.jpg?v=1554719760\n",
            "[%] File Downloaded !\n",
            "\n",
            "[%] Downloading Image #13 from https://www.john-woodbridge.com/1020-tm_large_default/1950s-football.jpg\n",
            "[%] File Downloaded !\n",
            "\n",
            "[%] Downloading Image #14 from https://www.academyballs.com/s/cc_images/teaserbox_1818127.jpg?t=1479054313\n",
            "[%] File Downloaded !\n",
            "\n",
            "[%] Downloading Image #15 from http://s3-ap-southeast-2.amazonaws.com/resources.farm1.mycms.me/goodbuddy-com-au/Resources/ProductImages/917_lo.jpg\n",
            "[%] File Downloaded !\n",
            "\n",
            "[%] Downloading Image #16 from https://cdn.shopify.com/s/files/1/0020/1025/1324/products/32p_black_1024x.png?v=1534865418\n",
            "[%] File Downloaded !\n",
            "\n",
            "[%] Downloading Image #17 from http://atlas-content-cdn.pixelsquid.com/stock-images/football-ball-QJGKVx9-600.jpg\n",
            "[%] File Downloaded !\n",
            "\n",
            "[%] Downloading Image #18 from http://www.pgoldsmithsons.com/content/images/thumbs/0000167_vintage-soccer-ball-wc-1958-tan-brown_600.jpeg\n",
            "[%] File Downloaded !\n",
            "\n",
            "[%] Downloading Image #19 from https://www.rugbyfactoryshop.co.uk/media/catalog/product/cache/13/image/9df78eab33525d08d6e5fb8d27136e95/g/i/gilbert-sidestep-revolution-black-red-rugby-boot_23.jpg\n",
            "[%] File Downloaded !\n",
            "\n",
            "[%] Downloading Image #20 from http://sportsballshop.co.uk/acatalog/SlazengerMatch1.jpg\n",
            "[%] File Downloaded !\n",
            "\n",
            "[%] Downloading Image #21 from http://www.prodirectrugby.com/productimages/V3_1_Gallery_1/62289.jpg\n",
            "[!] Issue getting: http://www.prodirectrugby.com/productimages/V3_1_Gallery_1/62289.jpg\n",
            "[!] Error:: HTTP Error 403: Forbidden\n",
            "\n",
            "\n",
            "[!!]Indexing page: 3\n",
            "\n",
            "[%] Indexed 10 Images on Page 3.\n",
            "\n",
            "===============================================\n",
            "\n",
            "[%] Downloading Image #21 from https://cdn.shopify.com/s/files/1/0788/5979/products/mvp-leather-balls-heritage-leather-t-soccer-ball-2_1024x1024.jpg?v=1554719760\n",
            "[%] File Downloaded !\n",
            "\n",
            "[%] Downloading Image #22 from https://www.john-woodbridge.com/1020-tm_large_default/1950s-football.jpg\n",
            "[%] File Downloaded !\n",
            "\n",
            "[%] Downloading Image #23 from https://www.academyballs.com/s/cc_images/teaserbox_1818127.jpg?t=1479054313\n",
            "[%] File Downloaded !\n",
            "\n",
            "[%] Downloading Image #24 from http://s3-ap-southeast-2.amazonaws.com/resources.farm1.mycms.me/goodbuddy-com-au/Resources/ProductImages/917_lo.jpg\n",
            "[%] File Downloaded !\n",
            "\n",
            "[%] Downloading Image #25 from https://cdn.shopify.com/s/files/1/0020/1025/1324/products/32p_black_1024x.png?v=1534865418\n",
            "[%] File Downloaded !\n",
            "\n",
            "[%] Downloading Image #26 from http://atlas-content-cdn.pixelsquid.com/stock-images/football-ball-QJGKVx9-600.jpg\n",
            "[%] File Downloaded !\n",
            "\n",
            "[%] Downloading Image #27 from http://www.pgoldsmithsons.com/content/images/thumbs/0000167_vintage-soccer-ball-wc-1958-tan-brown_600.jpeg\n",
            "[%] File Downloaded !\n",
            "\n",
            "[%] Downloading Image #28 from https://www.rugbyfactoryshop.co.uk/media/catalog/product/cache/13/image/9df78eab33525d08d6e5fb8d27136e95/g/i/gilbert-sidestep-revolution-black-red-rugby-boot_23.jpg\n",
            "[%] File Downloaded !\n",
            "\n",
            "[%] Downloading Image #29 from http://sportsballshop.co.uk/acatalog/SlazengerMatch1.jpg\n",
            "[%] File Downloaded !\n",
            "\n",
            "[%] Downloading Image #30 from http://www.prodirectrugby.com/productimages/V3_1_Gallery_1/62289.jpg\n",
            "[!] Issue getting: http://www.prodirectrugby.com/productimages/V3_1_Gallery_1/62289.jpg\n",
            "[!] Error:: HTTP Error 403: Forbidden\n",
            "\n",
            "\n",
            "[!!]Indexing page: 4\n",
            "\n",
            "[%] Indexed 9 Images on Page 4.\n",
            "\n",
            "===============================================\n",
            "\n",
            "[%] Downloading Image #30 from https://www.john-woodbridge.com/1020-tm_large_default/1950s-football.jpg\n",
            "[%] File Downloaded !\n",
            "\n",
            "\n",
            "\n",
            "[%] Done. Downloaded 30 images.\n",
            "\n",
            "===============================================\n",
            "\n"
          ],
          "name": "stdout"
        }
      ]
    },
    {
      "cell_type": "code",
      "metadata": {
        "colab": {
          "base_uri": "https://localhost:8080/"
        },
        "id": "fctwpt-9t2Vd",
        "outputId": "2d957185-8e88-403d-bcdc-6073590a630f"
      },
      "source": [
        "downloader.download(\"ice cream cone\",limit=30,output_dir='images',\n",
        "                    adult_filter_off=True)"
      ],
      "execution_count": null,
      "outputs": [
        {
          "output_type": "stream",
          "text": [
            "\n",
            "\n",
            "[!!]Indexing page: 1\n",
            "\n",
            "[%] Indexed 12 Images on Page 1.\n",
            "\n",
            "===============================================\n",
            "\n",
            "[%] Downloading Image #1 from https://www.craftymorning.com/wp-content/uploads/2016/05/cotton-candy-cones-party-favor.jpg\n",
            "[%] File Downloaded !\n",
            "\n",
            "[%] Downloading Image #2 from https://zolpwsuwoq-flywheel.netdna-ssl.com/wp-content/uploads/2017/09/boys-ice-cream-party-ideas.jpg\n",
            "[%] File Downloaded !\n",
            "\n",
            "[%] Downloading Image #3 from https://www.bravotv.com/sites/bravo/files/field_blog_image/2016/04/the-feast-overflowing-ice-cream-promote.jpg\n",
            "[%] File Downloaded !\n",
            "\n",
            "[%] Downloading Image #4 from https://c.stocksy.com/a/uDH400/z9/1019522.jpg\n",
            "[%] File Downloaded !\n",
            "\n",
            "[%] Downloading Image #5 from http://www.businesstoday.lk/cpanel/uploader/3128/Cargills-Mafic-Ice-1.jpg.JPEG\n",
            "[%] File Downloaded !\n",
            "\n",
            "[%] Downloading Image #6 from https://images.firstwefeast.com/complex/image/upload/f_auto,fl_lossy,q_auto,w_1200/r0jfkuo7cd2ovwxpygmr\n",
            "[%] File Downloaded !\n",
            "\n",
            "[%] Downloading Image #7 from https://belgique.co.uk/shop/517-thickbox_default/dripping-cake-chocolate.jpg\n",
            "[%] File Downloaded !\n",
            "\n",
            "[%] Downloading Image #8 from https://premier-cake-creations.com/wp-content/uploads/2019/04/Ice-Cream-Cone-Drip-Cake.jpg\n",
            "[%] File Downloaded !\n",
            "\n",
            "[%] Downloading Image #9 from http://etc.usf.edu/clipart/5300/5358/cone_1_lg.gif\n",
            "[%] File Downloaded !\n",
            "\n",
            "[%] Downloading Image #10 from http://spoonssquared.com/wp-content/uploads/2014/07/4-mini-cones.jpg\n",
            "[%] File Downloaded !\n",
            "\n",
            "[%] Downloading Image #11 from https://media1.s-nbcnews.com/j/streams/2014/May/140501/2D274905755348-sugar-craft477.today-inline-large.jpg\n",
            "[%] File Downloaded !\n",
            "\n",
            "[%] Downloading Image #12 from https://thumbs.dreamstime.com/x/flaming-cocktail-9354586.jpg\n",
            "[%] File Downloaded !\n",
            "\n",
            "\n",
            "\n",
            "[!!]Indexing page: 2\n",
            "\n",
            "[%] Indexed 12 Images on Page 2.\n",
            "\n",
            "===============================================\n",
            "\n",
            "[%] Downloading Image #13 from https://www.craftymorning.com/wp-content/uploads/2016/05/cotton-candy-cones-party-favor.jpg\n",
            "[%] File Downloaded !\n",
            "\n",
            "[%] Downloading Image #14 from https://zolpwsuwoq-flywheel.netdna-ssl.com/wp-content/uploads/2017/09/boys-ice-cream-party-ideas.jpg\n",
            "[%] File Downloaded !\n",
            "\n",
            "[%] Downloading Image #15 from https://www.bravotv.com/sites/bravo/files/field_blog_image/2016/04/the-feast-overflowing-ice-cream-promote.jpg\n",
            "[%] File Downloaded !\n",
            "\n",
            "[%] Downloading Image #16 from https://c.stocksy.com/a/uDH400/z9/1019522.jpg\n",
            "[%] File Downloaded !\n",
            "\n",
            "[%] Downloading Image #17 from http://www.businesstoday.lk/cpanel/uploader/3128/Cargills-Mafic-Ice-1.jpg.JPEG\n",
            "[%] File Downloaded !\n",
            "\n",
            "[%] Downloading Image #18 from https://images.firstwefeast.com/complex/image/upload/f_auto,fl_lossy,q_auto,w_1200/r0jfkuo7cd2ovwxpygmr\n",
            "[%] File Downloaded !\n",
            "\n",
            "[%] Downloading Image #19 from https://belgique.co.uk/shop/517-thickbox_default/dripping-cake-chocolate.jpg\n",
            "[%] File Downloaded !\n",
            "\n",
            "[%] Downloading Image #20 from https://premier-cake-creations.com/wp-content/uploads/2019/04/Ice-Cream-Cone-Drip-Cake.jpg\n",
            "[%] File Downloaded !\n",
            "\n",
            "[%] Downloading Image #21 from http://etc.usf.edu/clipart/5300/5358/cone_1_lg.gif\n",
            "[%] File Downloaded !\n",
            "\n",
            "[%] Downloading Image #22 from http://spoonssquared.com/wp-content/uploads/2014/07/4-mini-cones.jpg\n",
            "[%] File Downloaded !\n",
            "\n",
            "[%] Downloading Image #23 from https://media1.s-nbcnews.com/j/streams/2014/May/140501/2D274905755348-sugar-craft477.today-inline-large.jpg\n",
            "[%] File Downloaded !\n",
            "\n",
            "[%] Downloading Image #24 from https://thumbs.dreamstime.com/x/flaming-cocktail-9354586.jpg\n",
            "[%] File Downloaded !\n",
            "\n",
            "\n",
            "\n",
            "[!!]Indexing page: 3\n",
            "\n",
            "[%] Indexed 11 Images on Page 3.\n",
            "\n",
            "===============================================\n",
            "\n",
            "[%] Downloading Image #25 from https://www.bravotv.com/sites/bravo/files/field_blog_image/2016/04/the-feast-overflowing-ice-cream-promote.jpg\n",
            "[%] File Downloaded !\n",
            "\n",
            "[%] Downloading Image #26 from http://www.businesstoday.lk/cpanel/uploader/3128/Cargills-Mafic-Ice-1.jpg.JPEG\n",
            "[%] File Downloaded !\n",
            "\n",
            "[%] Downloading Image #27 from https://zolpwsuwoq-flywheel.netdna-ssl.com/wp-content/uploads/2017/09/boys-ice-cream-party-ideas.jpg\n",
            "[%] File Downloaded !\n",
            "\n",
            "[%] Downloading Image #28 from https://belgique.co.uk/shop/517-thickbox_default/dripping-cake-chocolate.jpg\n",
            "[%] File Downloaded !\n",
            "\n",
            "[%] Downloading Image #29 from https://premier-cake-creations.com/wp-content/uploads/2019/04/Ice-Cream-Cone-Drip-Cake.jpg\n",
            "[%] File Downloaded !\n",
            "\n",
            "[%] Downloading Image #30 from https://images.firstwefeast.com/complex/image/upload/f_auto,fl_lossy,q_auto,w_1200/r0jfkuo7cd2ovwxpygmr\n",
            "[%] File Downloaded !\n",
            "\n",
            "\n",
            "\n",
            "[%] Done. Downloaded 30 images.\n",
            "\n",
            "===============================================\n",
            "\n"
          ],
          "name": "stdout"
        }
      ]
    },
    {
      "cell_type": "code",
      "metadata": {
        "id": "PGq7WBv_t_W9"
      },
      "source": [
        "# preprocessing\n",
        "\n",
        "import os\n",
        "import matplotlib.pyplot as plt\n",
        "import numpy as np\n",
        "from skimage.io import imread\n",
        "from skimage.transform import resize\n",
        "\n",
        "target = []\n",
        "images = []\n",
        "flat_data = []\n",
        "\n",
        "DATADIR = '/content/images'\n",
        "CATEGORIES = ['racing bikes','rugby ball leather','ice cream cone']\n",
        " \n",
        "\n",
        "for category in CATEGORIES:\n",
        " class_num = CATEGORIES.index(category)  # Label Encoding the values\n",
        " path = os.path.join(DATADIR,category)   # Create path to use all the images\n",
        " for img in os.listdir(path):\n",
        "   img_array = imread(os.path.join(path,img))\n",
        "   #print(img_array.shape)\n",
        "   #plt.imshow(img_arrray)\n",
        "   img_resized = resize(img_array,(150,150,3))\n",
        "   flat_data.append(img_resized.flatten())\n",
        "   images.append(img_resized)\n",
        "   target.append(class_num)\n",
        "   \n",
        "flat_data = np.array(flat_data)\n",
        "target = np.array(target)\n",
        "images = np.array(images)"
      ],
      "execution_count": null,
      "outputs": []
    },
    {
      "cell_type": "code",
      "metadata": {
        "colab": {
          "base_uri": "https://localhost:8080/"
        },
        "id": "u_WQ9bMLgVgk",
        "outputId": "f2fd5c9d-3297-47c8-ba31-a94fdfefbc68"
      },
      "source": [
        "flat_data[0]"
      ],
      "execution_count": null,
      "outputs": [
        {
          "output_type": "execute_result",
          "data": {
            "text/plain": [
              "array([0.45490196, 0.56078431, 0.21156863, ..., 0.78784314, 0.50960784,\n",
              "       0.30176471])"
            ]
          },
          "metadata": {
            "tags": []
          },
          "execution_count": 48
        }
      ]
    },
    {
      "cell_type": "code",
      "metadata": {
        "id": "Q41RO1WzhxI1"
      },
      "source": [
        "# split data into training and testing\n",
        "from sklearn.model_selection import train_test_split \n",
        "x_train,x_test,y_train,y_test = train_test_split(flat_data,target,\n",
        "                                                 test_size=0.3,random_state=108)"
      ],
      "execution_count": null,
      "outputs": []
    },
    {
      "cell_type": "code",
      "metadata": {
        "colab": {
          "base_uri": "https://localhost:8080/"
        },
        "id": "cFC1Xz0NjJWc",
        "outputId": "6424ebf8-a687-4828-e056-971d9d5db567"
      },
      "source": [
        "from sklearn.model_selection import GridSearchCV\n",
        "from sklearn import svm\n",
        "param_Grid = [\n",
        "              {'C':[1,10,100,1000],'kernel':['linear']},\n",
        "              {'C':[1,10,100,1000],'gamma':[0.001,0.0001],'kernel':['rbf']}\n",
        "]\n",
        "\n",
        "svc = svm.SVC(probability=True)\n",
        "clf = GridSearchCV(svc,param_Grid)\n",
        "clf.fit(x_train,y_train)"
      ],
      "execution_count": null,
      "outputs": [
        {
          "output_type": "execute_result",
          "data": {
            "text/plain": [
              "GridSearchCV(cv=None, error_score=nan,\n",
              "             estimator=SVC(C=1.0, break_ties=False, cache_size=200,\n",
              "                           class_weight=None, coef0=0.0,\n",
              "                           decision_function_shape='ovr', degree=3,\n",
              "                           gamma='scale', kernel='rbf', max_iter=-1,\n",
              "                           probability=True, random_state=None, shrinking=True,\n",
              "                           tol=0.001, verbose=False),\n",
              "             iid='deprecated', n_jobs=None,\n",
              "             param_grid=[{'C': [1, 10, 100, 1000], 'kernel': ['linear']},\n",
              "                         {'C': [1, 10, 100, 1000], 'gamma': [0.001, 0.0001],\n",
              "                          'kernel': ['rbf']}],\n",
              "             pre_dispatch='2*n_jobs', refit=True, return_train_score=False,\n",
              "             scoring=None, verbose=0)"
            ]
          },
          "metadata": {
            "tags": []
          },
          "execution_count": 50
        }
      ]
    },
    {
      "cell_type": "code",
      "metadata": {
        "colab": {
          "base_uri": "https://localhost:8080/"
        },
        "id": "qZg_XSkXq1cH",
        "outputId": "5342e6b0-25be-42d2-b6b2-94cf5b1d1e97"
      },
      "source": [
        "y_pred = clf.predict(x_test)\n",
        "y_pred"
      ],
      "execution_count": null,
      "outputs": [
        {
          "output_type": "execute_result",
          "data": {
            "text/plain": [
              "array([2, 1, 1, 1, 1, 0, 1, 1, 2, 0, 0, 0, 0, 0, 0, 1, 0, 1, 1, 0, 0, 1,\n",
              "       2, 2, 0, 1, 2, 1, 0, 0, 2, 0, 1])"
            ]
          },
          "metadata": {
            "tags": []
          },
          "execution_count": 51
        }
      ]
    },
    {
      "cell_type": "code",
      "metadata": {
        "colab": {
          "base_uri": "https://localhost:8080/"
        },
        "id": "p9FfEZMjrCVc",
        "outputId": "f4ac5fd1-6a3d-45c5-b262-12e50590b788"
      },
      "source": [
        "y_test"
      ],
      "execution_count": null,
      "outputs": [
        {
          "output_type": "execute_result",
          "data": {
            "text/plain": [
              "array([2, 1, 1, 1, 1, 0, 1, 1, 2, 0, 0, 0, 0, 0, 0, 1, 0, 1, 1, 0, 0, 1,\n",
              "       2, 0, 0, 1, 2, 1, 0, 0, 2, 0, 1])"
            ]
          },
          "metadata": {
            "tags": []
          },
          "execution_count": 52
        }
      ]
    },
    {
      "cell_type": "code",
      "metadata": {
        "id": "rMzxKXoFrGXo"
      },
      "source": [
        "from sklearn.metrics import accuracy_score,confusion_matrix"
      ],
      "execution_count": null,
      "outputs": []
    },
    {
      "cell_type": "code",
      "metadata": {
        "colab": {
          "base_uri": "https://localhost:8080/"
        },
        "id": "snXHR_htrvea",
        "outputId": "72d0e795-e21e-4dc2-bf7e-b587860e5e80"
      },
      "source": [
        "accuracy_score(y_pred,y_test)"
      ],
      "execution_count": null,
      "outputs": [
        {
          "output_type": "execute_result",
          "data": {
            "text/plain": [
              "0.9696969696969697"
            ]
          },
          "metadata": {
            "tags": []
          },
          "execution_count": 54
        }
      ]
    },
    {
      "cell_type": "code",
      "metadata": {
        "colab": {
          "base_uri": "https://localhost:8080/"
        },
        "id": "J3W9aRtqsEOm",
        "outputId": "7886e378-a0c3-4655-9281-c9e401f75ecc"
      },
      "source": [
        "confusion_matrix(y_pred,y_test)"
      ],
      "execution_count": null,
      "outputs": [
        {
          "output_type": "execute_result",
          "data": {
            "text/plain": [
              "array([[14,  0,  0],\n",
              "       [ 0, 13,  0],\n",
              "       [ 1,  0,  5]])"
            ]
          },
          "metadata": {
            "tags": []
          },
          "execution_count": 55
        }
      ]
    },
    {
      "cell_type": "code",
      "metadata": {
        "colab": {
          "base_uri": "https://localhost:8080/",
          "height": 69
        },
        "id": "oHB8HZhTsziK",
        "outputId": "d3ef81c2-1d23-4145-99a2-bc3e5b37370a"
      },
      "source": [
        "from sklearn.metrics import classification_report\n",
        "classification_report(y_pred,y_test)"
      ],
      "execution_count": null,
      "outputs": [
        {
          "output_type": "execute_result",
          "data": {
            "application/vnd.google.colaboratory.intrinsic+json": {
              "type": "string"
            },
            "text/plain": [
              "'              precision    recall  f1-score   support\\n\\n           0       0.93      1.00      0.97        14\\n           1       1.00      1.00      1.00        13\\n           2       1.00      0.83      0.91         6\\n\\n    accuracy                           0.97        33\\n   macro avg       0.98      0.94      0.96        33\\nweighted avg       0.97      0.97      0.97        33\\n'"
            ]
          },
          "metadata": {
            "tags": []
          },
          "execution_count": 56
        }
      ]
    },
    {
      "cell_type": "code",
      "metadata": {
        "id": "QDL7hC8itdwC"
      },
      "source": [
        "# save the model using pickle library\n",
        "import pickle\n",
        "pickle.dump(clf,open('img_model.p','wb'))"
      ],
      "execution_count": null,
      "outputs": []
    },
    {
      "cell_type": "code",
      "metadata": {
        "id": "64NFqq_6wVwu"
      },
      "source": [
        "model = pickle.load(open('img_model.p','rb'))"
      ],
      "execution_count": null,
      "outputs": []
    },
    {
      "cell_type": "code",
      "metadata": {
        "colab": {
          "base_uri": "https://localhost:8080/",
          "height": 319
        },
        "id": "aMptyO7FxFeT",
        "outputId": "e317f93b-61f3-4d11-ce00-86bb093af247"
      },
      "source": [
        "# testing a brand new image \n",
        "flat_data = []\n",
        "url = input('Enter Your URL')\n",
        "img = imread(url)\n",
        "img_resized = resize(img,(150,150,3))\n",
        "flat_data.append(img_resized.flatten())\n",
        "flat_data = np.array(flat_data)\n",
        "print(img.shape)\n",
        "plt.imshow(img_resized)\n",
        "y_out = model.predict(flat_data)\n",
        "y_out = CATEGORIES[y_out[0]]\n",
        "print(f' PREDICTED OUTPUT: {y_out}')"
      ],
      "execution_count": null,
      "outputs": [
        {
          "output_type": "stream",
          "text": [
            "Enter Your URLhttps://imgd.aeplcdn.com/640x348/bikewaleimg/ec/464/img/m/Hero-Racing-EBR-1190RS-1128_l.jpg?t=144224350&t=144224350&q=75\n",
            "(338, 620, 3)\n",
            " PREDICTED OUTPUT: racing bikes\n"
          ],
          "name": "stdout"
        },
        {
          "output_type": "display_data",
          "data": {
            "image/png": "[encoded data removed]",
            "text/plain": [
              "<Figure size 432x288 with 1 Axes>"
            ]
          },
          "metadata": {
            "tags": [],
            "needs_background": "light"
          }
        }
      ]
    },
    {
      "cell_type": "code",
      "metadata": {
        "id": "U5NGyiZQPSEI"
      },
      "source": [
        "\n",
        "   "
      ],
      "execution_count": null,
      "outputs": []
    }
  ]
}